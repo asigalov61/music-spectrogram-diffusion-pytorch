{
 "cells": [
  {
   "cell_type": "code",
   "execution_count": null,
   "id": "e2cdfc8b-610f-4942-aa27-51194901eac9",
   "metadata": {},
   "outputs": [],
   "source": [
    "!git clone https://github.com/asigalov61/music-spectrogram-diffusion-pytorch"
   ]
  },
  {
   "cell_type": "code",
   "execution_count": null,
   "id": "24b851ed-a71e-4dcd-bfdf-193183d72ad8",
   "metadata": {},
   "outputs": [],
   "source": [
    "%cd music-spectrogram-diffusion-pytorch\n",
    "!pip install -r requirements.txt"
   ]
  },
  {
   "cell_type": "code",
   "execution_count": null,
   "id": "bda452ff-4afa-407f-9a22-bb0b92af7e23",
   "metadata": {},
   "outputs": [],
   "source": [
    "!pip uninstall torch torchaudio -y"
   ]
  },
  {
   "cell_type": "code",
   "execution_count": null,
   "id": "c8b3eb50-c5d4-4bc9-a727-b31e311cddbc",
   "metadata": {},
   "outputs": [],
   "source": [
    "!pip install torchaudio==2.7.0"
   ]
  },
  {
   "cell_type": "code",
   "execution_count": null,
   "id": "18855c97-8002-4c1e-bddc-6519d888d27e",
   "metadata": {},
   "outputs": [],
   "source": [
    "!pip install numpy==1.24.4"
   ]
  },
  {
   "cell_type": "code",
   "execution_count": null,
   "id": "5f938f59-58ba-4a10-8dae-7387ba692cb9",
   "metadata": {},
   "outputs": [],
   "source": [
    "!pip install resampy"
   ]
  },
  {
   "cell_type": "code",
   "execution_count": null,
   "id": "fb5cd873-15ae-40c2-82f9-0b95f03255df",
   "metadata": {},
   "outputs": [],
   "source": [
    "!pip install -U torchaudio"
   ]
  },
  {
   "cell_type": "code",
   "execution_count": null,
   "id": "ad8bb3e6-ecf7-4da8-8b3b-3a2548567716",
   "metadata": {},
   "outputs": [],
   "source": [
    "%cd music-spectrogram-diffusion-pytorch\n",
    "\n",
    "!python main.py fit --config cfg/diff_small_test.yaml\n",
    "\n",
    "%cd ~"
   ]
  },
  {
   "cell_type": "code",
   "execution_count": null,
   "id": "84288877-f3ac-4af5-9129-ec3fc8a2f3ba",
   "metadata": {
    "scrolled": true
   },
   "outputs": [],
   "source": [
    "%cd music-spectrogram-diffusion-pytorch\n",
    "\n",
    "!python infer.py test.mid last.ckpt cfg/diff_small_test.yaml output.wav\n",
    "%cd ~"
   ]
  },
  {
   "cell_type": "code",
   "execution_count": null,
   "id": "42c1b81e-066b-4e6d-bd3c-10b2dadc25cd",
   "metadata": {},
   "outputs": [],
   "source": []
  }
 ],
 "metadata": {
  "kernelspec": {
   "display_name": "Python 3 (ipykernel)",
   "language": "python",
   "name": "python3"
  },
  "language_info": {
   "codemirror_mode": {
    "name": "ipython",
    "version": 3
   },
   "file_extension": ".py",
   "mimetype": "text/x-python",
   "name": "python",
   "nbconvert_exporter": "python",
   "pygments_lexer": "ipython3",
   "version": "3.10.12"
  }
 },
 "nbformat": 4,
 "nbformat_minor": 5
}
